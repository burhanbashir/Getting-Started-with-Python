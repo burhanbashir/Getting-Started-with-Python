{
 "cells": [
  {
   "cell_type": "code",
   "execution_count": 3,
   "metadata": {},
   "outputs": [
    {
     "name": "stdout",
     "output_type": "stream",
     "text": [
      "{'rather', 'nawab', 'bashir'}\n",
      "True\n",
      "{'burhan', 'rather', 'nawab', 'bashir'}\n"
     ]
    }
   ],
   "source": [
    "sets= {\"nawab\",\"bashir\",\"rather\"}\n",
    "print(sets)\n",
    "print(\"nawab\"in sets)\n",
    "sets.add(\"burhan\")\n",
    "print(sets)"
   ]
  },
  {
   "cell_type": "code",
   "execution_count": 4,
   "metadata": {},
   "outputs": [
    {
     "name": "stdout",
     "output_type": "stream",
     "text": [
      "{1, 2, 34, 11, 24}\n"
     ]
    }
   ],
   "source": [
    "sets ={1,2,34,24,11}\n",
    "print(sets)"
   ]
  },
  {
   "cell_type": "code",
   "execution_count": 10,
   "metadata": {},
   "outputs": [
    {
     "name": "stdout",
     "output_type": "stream",
     "text": [
      "10.0\n",
      "10000000000.0\n",
      "24\n"
     ]
    }
   ],
   "source": [
    "#Module is set of functions that can be used in other programs. In order to use it other program we need to import it to that program\n",
    "# We have some in built modules as well\n",
    "import math\n",
    "a = math.sqrt(100)\n",
    "b = math.pow(100,5)\n",
    "y = math.factorial(4)\n",
    "print(a)\n",
    "print(b)\n",
    "print(y)"
   ]
  },
  {
   "cell_type": "code",
   "execution_count": 15,
   "metadata": {},
   "outputs": [
    {
     "name": "stdout",
     "output_type": "stream",
     "text": [
      "24\n"
     ]
    }
   ],
   "source": [
    "#Another way to write import\n",
    "import math as m\n",
    "c = m.factorial(4)\n",
    "print(c)\n"
   ]
  },
  {
   "cell_type": "code",
   "execution_count": 14,
   "metadata": {},
   "outputs": [
    {
     "name": "stdout",
     "output_type": "stream",
     "text": [
      "6\n"
     ]
    }
   ],
   "source": [
    "#One more way to write import statement \n",
    "from math import factorial\n",
    "y = factorial(3)\n",
    "print(y)"
   ]
  },
  {
   "cell_type": "code",
   "execution_count": 17,
   "metadata": {},
   "outputs": [
    {
     "ename": "SyntaxError",
     "evalue": "invalid syntax (<ipython-input-17-f0c319ea5373>, line 5)",
     "output_type": "error",
     "traceback": [
      "\u001b[0;36m  File \u001b[0;32m\"<ipython-input-17-f0c319ea5373>\"\u001b[0;36m, line \u001b[0;32m5\u001b[0m\n\u001b[0;31m    print(s.split(,))\u001b[0m\n\u001b[0m                  ^\u001b[0m\n\u001b[0;31mSyntaxError\u001b[0m\u001b[0;31m:\u001b[0m invalid syntax\n"
     ]
    }
   ],
   "source": [
    "#File \n",
    "file = open(\"mobile.txt\",'r')\n",
    "s.file.readline()\n",
    "print(s)\n",
    "print(s.split(,))\n",
    "file.close()"
   ]
  },
  {
   "cell_type": "code",
   "execution_count": null,
   "metadata": {},
   "outputs": [],
   "source": []
  }
 ],
 "metadata": {
  "kernelspec": {
   "display_name": "Python 3",
   "language": "python",
   "name": "python3"
  },
  "language_info": {
   "codemirror_mode": {
    "name": "ipython",
    "version": 3
   },
   "file_extension": ".py",
   "mimetype": "text/x-python",
   "name": "python",
   "nbconvert_exporter": "python",
   "pygments_lexer": "ipython3",
   "version": "3.7.0"
  }
 },
 "nbformat": 4,
 "nbformat_minor": 2
}
