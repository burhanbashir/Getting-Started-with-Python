{
 "cells": [
  {
   "cell_type": "code",
   "execution_count": 78,
   "metadata": {},
   "outputs": [
    {
     "name": "stdout",
     "output_type": "stream",
     "text": [
      "{1: 2534, 3: 1233, 2: 34322, 4: 3444}\n",
      "[1233, 2534, 3444, 34322]\n",
      "[34322, 3444, 2534, 1233]\n"
     ]
    }
   ],
   "source": [
    "#Python dictionaries\n",
    "#Ascending & descending order\n",
    "dic= {1:2534,3:1233,2:34322,4:3444}\n",
    "print(dic)\n",
    "print(sorted(dic.values()))\n",
    "print(sorted(dic.values(),reverse=True))"
   ]
  },
  {
   "cell_type": "code",
   "execution_count": 29,
   "metadata": {},
   "outputs": [
    {
     "name": "stdout",
     "output_type": "stream",
     "text": [
      "{1: 'Aamir', 2: 'Burhan', 3: 'naffi'}\n",
      "{1: 'Aamir', 2: 'Burhan', 3: 'naffi', 4: 'Majid'}\n",
      "{1: 'Aamir', 2: 'Burhan', 3: 'naffi', 4: 'Majid'}\n",
      "{1: 'Aamir', 3: 'naffi', 4: 'Majid'}\n"
     ]
    }
   ],
   "source": [
    "#Add and removing a key to a dictionary\n",
    "di = {1:\"Aamir\", 2: \"Burhan\", 3:\"naffi\"}\n",
    "print(di)\n",
    "di[4]=\"Majid\"\n",
    "print(di)\n",
    "dic.update({6:2})\n",
    "print(di)\n",
    "di.pop(2)\n",
    "print(di)"
   ]
  },
  {
   "cell_type": "code",
   "execution_count": 19,
   "metadata": {},
   "outputs": [
    {
     "name": "stdout",
     "output_type": "stream",
     "text": [
      "{2: 3, 1: 33, 4: 44}\n",
      "{2: 3, 1: 33, 4: 44, 10: 'bur', 6: 'han'}\n"
     ]
    }
   ],
   "source": [
    "#Concatitaion\n",
    "dictt= {2:3,1:33,4:44}\n",
    "dict1 = {10:\"bur\",6:\"han\"}\n",
    "print(dictt)\n",
    "dictt.update(dict1)\n",
    "print(dictt)"
   ]
  },
  {
   "cell_type": "code",
   "execution_count": 20,
   "metadata": {},
   "outputs": [
    {
     "name": "stdout",
     "output_type": "stream",
     "text": [
      "Present in dict\n"
     ]
    }
   ],
   "source": [
    "#Membership operators\n",
    "dictionary={1:\"hey\", 2:\"how are you\"}\n",
    "x = 1\n",
    "if x in dictionary.keys():\n",
    "    print(\"Present in dict\")\n",
    "else:\n",
    "    print(\"Not present\")"
   ]
  },
  {
   "cell_type": "code",
   "execution_count": 25,
   "metadata": {},
   "outputs": [
    {
     "name": "stdout",
     "output_type": "stream",
     "text": [
      "(1, 'Aamir')\n",
      "(2, 'youf')\n",
      "(3, 'dhobi')\n"
     ]
    }
   ],
   "source": [
    "#Displaying values of dictionary\n",
    "dic = {1:\"Aamir\",2:\"youf\",3:\"dhobi\"}\n",
    "for i in dic.items():\n",
    "    print(i)"
   ]
  },
  {
   "cell_type": "code",
   "execution_count": 28,
   "metadata": {},
   "outputs": [
    {
     "name": "stdout",
     "output_type": "stream",
     "text": [
      "391\n"
     ]
    }
   ],
   "source": [
    "#Sum of all items of dictionary\n",
    "doc={1:2,3:11,5:33,6:345}\n",
    "summ= 0\n",
    "for i in doc.values():\n",
    "    summ+=i\n",
    "print(summ)"
   ]
  },
  {
   "cell_type": "code",
   "execution_count": 31,
   "metadata": {},
   "outputs": [
    {
     "name": "stdout",
     "output_type": "stream",
     "text": [
      "{2: 44, 1: 33, 3: 44, 4: 11}\n"
     ]
    }
   ],
   "source": [
    "#Merging two lists into a dictionary\n",
    "list1=[2,1,3,4]\n",
    "list2 =[44,33,44,11]\n",
    "dic = dict(zip(list1,list2))\n",
    "print(dic)"
   ]
  },
  {
   "cell_type": "code",
   "execution_count": 32,
   "metadata": {},
   "outputs": [
    {
     "name": "stdout",
     "output_type": "stream",
     "text": [
      "250470\n"
     ]
    }
   ],
   "source": [
    "#Multiplication of dictionary values\n",
    "doc={1:2,3:11,5:33,6:345}\n",
    "mult=1\n",
    "for i in doc.values():\n",
    "    mult*=i\n",
    "print(mult)"
   ]
  },
  {
   "cell_type": "code",
   "execution_count": 39,
   "metadata": {},
   "outputs": [
    {
     "name": "stdout",
     "output_type": "stream",
     "text": [
      "Enter the number of times you want to generate \n",
      "3\n",
      "{1: 1, 2: 4, 3: 9}\n"
     ]
    }
   ],
   "source": [
    "n = int(input(\"Enter the number of times you want to generate \\n\"))\n",
    "dictt= dict()\n",
    "for x in range(1,n+1):\n",
    "    dictt[x] = x*x\n",
    "print(dictt)"
   ]
  },
  {
   "cell_type": "code",
   "execution_count": 43,
   "metadata": {},
   "outputs": [
    {
     "name": "stdout",
     "output_type": "stream",
     "text": [
      "2\n",
      "4\n",
      "5\n"
     ]
    }
   ],
   "source": [
    "dicto= {2:33,4:55,5:66}\n",
    "for i in sorted(dicto.keys()):\n",
    "    print(i)"
   ]
  },
  {
   "cell_type": "code",
   "execution_count": 55,
   "metadata": {},
   "outputs": [
    {
     "name": "stdout",
     "output_type": "stream",
     "text": [
      "Maximum values of dictionary 77\n",
      "Maximum key values of dictionary 55\n"
     ]
    }
   ],
   "source": [
    "#Maximum and minimum value of dictionary\n",
    "dicti= {2:11,3:55,2:77}\n",
    "print(\"Maximum values of dictionary\",max(dicti.values()))\n",
    "print(\"Maximum key values of dictionary\",min(dicti.values()))"
   ]
  },
  {
   "cell_type": "code",
   "execution_count": 70,
   "metadata": {},
   "outputs": [
    {
     "name": "stdout",
     "output_type": "stream",
     "text": [
      "Empty\n"
     ]
    }
   ],
   "source": [
    "#To check whether a dictionary is empty or not?\n",
    "d = {}\n",
    "if d:\n",
    "    print(\"not empty\")\n",
    "else:\n",
    "    print(\"Empty\")"
   ]
  },
  {
   "cell_type": "code",
   "execution_count": 72,
   "metadata": {},
   "outputs": [
    {
     "name": "stdout",
     "output_type": "stream",
     "text": [
      "Not empty\n"
     ]
    }
   ],
   "source": [
    "#To check whether a dictionary is empty or not?\n",
    "d = {1:12, 3:\"hello\"}\n",
    "if d:\n",
    "    print(\"Not empty\")\n",
    "else:\n",
    "    print(\"Empty\")"
   ]
  },
  {
   "cell_type": "code",
   "execution_count": 81,
   "metadata": {
    "collapsed": true
   },
   "outputs": [
    {
     "name": "stdout",
     "output_type": "stream",
     "text": [
      "Counter({'a': 400, 'b': 400, 'd': 400, 'c': 300})\n"
     ]
    }
   ],
   "source": [
    "#Combining two dictionaries \n",
    "from collections import Counter\n",
    "d1 = {'a':100,'b':200,'c':300}\n",
    "d2 = {'a':300, 'b':200,'d':400}\n",
    "d3 = Counter(d1)+ Counter(d2)\n",
    "print(d3)\n"
   ]
  },
  {
   "cell_type": "code",
   "execution_count": null,
   "metadata": {},
   "outputs": [],
   "source": []
  }
 ],
 "metadata": {
  "kernelspec": {
   "display_name": "Python 3",
   "language": "python",
   "name": "python3"
  },
  "language_info": {
   "codemirror_mode": {
    "name": "ipython",
    "version": 3
   },
   "file_extension": ".py",
   "mimetype": "text/x-python",
   "name": "python",
   "nbconvert_exporter": "python",
   "pygments_lexer": "ipython3",
   "version": "3.7.0"
  }
 },
 "nbformat": 4,
 "nbformat_minor": 2
}
