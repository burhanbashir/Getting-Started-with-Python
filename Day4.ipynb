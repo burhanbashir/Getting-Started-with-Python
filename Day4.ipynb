{
 "cells": [
  {
   "cell_type": "code",
   "execution_count": 6,
   "metadata": {},
   "outputs": [
    {
     "name": "stdout",
     "output_type": "stream",
     "text": [
      "Hello Nawab How are you?\n"
     ]
    }
   ],
   "source": [
    "#Python functions\n",
    "def greetings(name):\n",
    "    print(\"Hello \"+name+\" How are you?\") \n",
    "greetings(\"Nawab\")"
   ]
  },
  {
   "cell_type": "code",
   "execution_count": 66,
   "metadata": {},
   "outputs": [
    {
     "name": "stdout",
     "output_type": "stream",
     "text": [
      "Enter number5\n",
      "The factorial 5 is 120\n"
     ]
    }
   ],
   "source": [
    "#factorial of a number\n",
    "def fact(num):\n",
    "    if num==1:\n",
    "        return 1\n",
    "    else:\n",
    "        return (num*fact(num-1))\n",
    "num = int(input(\"Enter number\"))\n",
    "print(\"The factorial %s is %s\"%(num, fact(num)))"
   ]
  },
  {
   "cell_type": "code",
   "execution_count": 64,
   "metadata": {},
   "outputs": [
    {
     "name": "stdout",
     "output_type": "stream",
     "text": [
      "Enter the operation you want to perform \n",
      "add\n",
      "Enter the value of first operand3\n",
      "Enter the value of seconf operand5\n",
      "8\n"
     ]
    }
   ],
   "source": [
    "#Arthematic operations\n",
    "def sum(num1,num2):\n",
    "    sum=num1+num2\n",
    "    return sum\n",
    "def sub(num1,num2):\n",
    "    subtraction= num1-num2\n",
    "    return subtraction\n",
    "def mul(num1,num2):\n",
    "    multiple= num1*num2\n",
    "    return multiple\n",
    "def div(num1, num2):\n",
    "    division= num1/num2\n",
    "    return division\n",
    "choice=input(\"Enter the operation you want to perform \\n\")\n",
    "a = int(input(\"Enter the value of first operand\"))\n",
    "b = int(input(\"Enter the value of seconf operand\"))\n",
    "if choice== \"add\":\n",
    "    print(sum(a,b))\n",
    "elif choice==\"sub\":\n",
    "    print(sub(a,b))\n",
    "elif choice==\"mul\":\n",
    "    print(mul(a,b))\n",
    "elif choice==\"div\":\n",
    "    print(div(a,b))\n",
    "else:\n",
    "    print(\"Invalid operation\")\n",
    "\n"
   ]
  },
  {
   "cell_type": "code",
   "execution_count": null,
   "metadata": {},
   "outputs": [],
   "source": []
  },
  {
   "cell_type": "code",
   "execution_count": 35,
   "metadata": {},
   "outputs": [
    {
     "data": {
      "text/plain": [
       "3.0"
      ]
     },
     "execution_count": 35,
     "metadata": {},
     "output_type": "execute_result"
    }
   ],
   "source": [
    "#Area of triangle\n",
    "def area(b,a):\n",
    "    return 1/2*(b*a)\n",
    "area(3,2)"
   ]
  },
  {
   "cell_type": "code",
   "execution_count": 36,
   "metadata": {},
   "outputs": [
    {
     "data": {
      "text/plain": [
       "4"
      ]
     },
     "execution_count": 36,
     "metadata": {},
     "output_type": "execute_result"
    }
   ],
   "source": [
    "#Area of square\n",
    "def area_sq(a):\n",
    "    return a*a\n",
    "area_sq(2)"
   ]
  },
  {
   "cell_type": "code",
   "execution_count": 65,
   "metadata": {},
   "outputs": [
    {
     "data": {
      "text/plain": [
       "8"
      ]
     },
     "execution_count": 65,
     "metadata": {},
     "output_type": "execute_result"
    }
   ],
   "source": [
    "#Area of reactangle\n",
    "def area_rect(l,b):\n",
    "    area= l*b\n",
    "    return area\n",
    "area_rect(2,4)"
   ]
  },
  {
   "cell_type": "code",
   "execution_count": 77,
   "metadata": {},
   "outputs": [
    {
     "data": {
      "text/plain": [
       "(4, 566)"
      ]
     },
     "execution_count": 77,
     "metadata": {},
     "output_type": "execute_result"
    }
   ],
   "source": [
    "def minmax():\n",
    "    x = [23,4,5,22,44,566,234]\n",
    "    minimum = x[0] \n",
    "    maximum = x[0]\n",
    "    for i in x:\n",
    "        if i < minimum: \n",
    "            minimum = i \n",
    "        else: \n",
    "            if i > maximum:\n",
    "                maximum = i\n",
    "    return (minimum,maximum)\n",
    "\n",
    "minmax()"
   ]
  },
  {
   "cell_type": "code",
   "execution_count": 78,
   "metadata": {},
   "outputs": [
    {
     "data": {
      "text/plain": [
       "(4, 2)"
      ]
     },
     "execution_count": 78,
     "metadata": {},
     "output_type": "execute_result"
    }
   ],
   "source": [
    "def swap(val1,val2):\n",
    "        return val2,val1\n",
    "swap(2,4)\n",
    "    \n",
    "    "
   ]
  },
  {
   "cell_type": "code",
   "execution_count": 5,
   "metadata": {},
   "outputs": [
    {
     "name": "stdout",
     "output_type": "stream",
     "text": [
      "Enter number56\n",
      "Enter number43\n",
      "Swapped values are: 43 56\n"
     ]
    }
   ],
   "source": [
    "def swap_val(args1, args2):\n",
    "    return args2,args1\n",
    "args1= int(input(\"Enter number\"))\n",
    "args2 = int(input(\"Enter number\"))\n",
    "args1,args2 = swap_val(args1,args2)  \n",
    "print(\"Swapped values are:\",args1,args2)\n"
   ]
  },
  {
   "cell_type": "code",
   "execution_count": null,
   "metadata": {},
   "outputs": [],
   "source": []
  },
  {
   "cell_type": "code",
   "execution_count": null,
   "metadata": {},
   "outputs": [],
   "source": []
  }
 ],
 "metadata": {
  "kernelspec": {
   "display_name": "Python 3",
   "language": "python",
   "name": "python3"
  },
  "language_info": {
   "codemirror_mode": {
    "name": "ipython",
    "version": 3
   },
   "file_extension": ".py",
   "mimetype": "text/x-python",
   "name": "python",
   "nbconvert_exporter": "python",
   "pygments_lexer": "ipython3",
   "version": "3.7.0"
  }
 },
 "nbformat": 4,
 "nbformat_minor": 2
}
