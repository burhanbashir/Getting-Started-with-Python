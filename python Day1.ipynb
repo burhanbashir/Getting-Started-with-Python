{
 "cells": [
  {
   "cell_type": "code",
   "execution_count": 1,
   "metadata": {},
   "outputs": [
    {
     "name": "stdout",
     "output_type": "stream",
     "text": [
      "5\n",
      "John\n"
     ]
    }
   ],
   "source": [
    "#varaibles\n",
    "x = 5\n",
    "y = \"John\"\n",
    "print(x)\n",
    "print(y)"
   ]
  },
  {
   "cell_type": "code",
   "execution_count": 6,
   "metadata": {},
   "outputs": [
    {
     "name": "stdout",
     "output_type": "stream",
     "text": [
      "<class 'int'>\n",
      "<class 'float'>\n",
      "<class 'complex'>\n",
      "<class 'complex'>\n",
      "<class 'complex'>\n",
      "<class 'complex'>\n"
     ]
    }
   ],
   "source": [
    "#type of data\n",
    "x=1\n",
    "y = 2.8\n",
    "z = 1j  \n",
    "\n",
    "a = 3+5j\n",
    "b = 5j\n",
    "c = -5j\n",
    "print(type(x))\n",
    "print(type(y))\n",
    "print(type(z))\n",
    "print(type(a))\n",
    "print(type(b))\n",
    "print(type(c))"
   ]
  },
  {
   "cell_type": "code",
   "execution_count": 107,
   "metadata": {},
   "outputs": [
    {
     "name": "stdout",
     "output_type": "stream",
     "text": [
      "1\n",
      "2\n",
      "3\n",
      "4.0\n"
     ]
    }
   ],
   "source": [
    "#casting\n",
    "x = int(1)  \n",
    "y = int(2.8)\n",
    "z = int(\"3\")\n",
    "c = float(\"4\")\n",
    "\n",
    "print(x)\n",
    "print(y)\n",
    "print(z)\n",
    "print(c)"
   ]
  },
  {
   "cell_type": "code",
   "execution_count": 108,
   "metadata": {},
   "outputs": [
    {
     "name": "stdout",
     "output_type": "stream",
     "text": [
      "e\n",
      "llo\n",
      "Hell0, World!\n",
      "13\n",
      "HELL0, WORLD!\n",
      "hell0, world!\n",
      "Hell0, WorlJ!\n"
     ]
    }
   ],
   "source": [
    "#Strings\n",
    "a =  \"Hell0, World!\"\n",
    "b = \"Hello, World!\"\n",
    "\n",
    "print(a[1])\n",
    "print(b[2:5])\n",
    "print(a.strip())\n",
    "print(len(a))\n",
    "print (a.upper())\n",
    "print (a.lower())\n",
    "print (a.replace(\"d\",\"J\"))"
   ]
  },
  {
   "cell_type": "code",
   "execution_count": 63,
   "metadata": {},
   "outputs": [
    {
     "name": "stdout",
     "output_type": "stream",
     "text": [
      "4\n"
     ]
    }
   ],
   "source": [
    "#String operations\n",
    "str= \"Hello how are you doing\"\n",
    "sub=\"o\"\n",
    "print(str.count('o'))"
   ]
  },
  {
   "cell_type": "code",
   "execution_count": 70,
   "metadata": {},
   "outputs": [
    {
     "name": "stdout",
     "output_type": "stream",
     "text": [
      "6\n"
     ]
    }
   ],
   "source": [
    "#operators \n",
    "x = 4\n",
    "x+= 3\n",
    "x-=1\n",
    "print(x)"
   ]
  },
  {
   "cell_type": "code",
   "execution_count": 72,
   "metadata": {},
   "outputs": [
    {
     "name": "stdout",
     "output_type": "stream",
     "text": [
      "A is greater\n"
     ]
    }
   ],
   "source": [
    "#Conditional statements \n",
    "a = 3000000\n",
    "b = 40000 \n",
    "if b>a:\n",
    "        print(\"B is greater\")\n",
    "else:\n",
    "            print(\"A is greater\")"
   ]
  },
  {
   "cell_type": "code",
   "execution_count": 74,
   "metadata": {},
   "outputs": [
    {
     "name": "stdout",
     "output_type": "stream",
     "text": [
      "Payable ammount 190\n"
     ]
    }
   ],
   "source": [
    "ammount = 200\n",
    "if ammount>=200:\n",
    "        discount = ammount-10\n",
    "        print(\"Payable ammount\",discount)\n",
    "else:\n",
    "    discount = ammount-5\n",
    "    print(\"Payable ammount\",discount)"
   ]
  },
  {
   "cell_type": "code",
   "execution_count": 77,
   "metadata": {},
   "outputs": [
    {
     "data": {
      "text/plain": [
       "37.67"
      ]
     },
     "execution_count": 77,
     "metadata": {},
     "output_type": "execute_result"
    }
   ],
   "source": [
    "#Round off by 2\n",
    "var = 37.66666;\n",
    "round(var,2)"
   ]
  },
  {
   "cell_type": "code",
   "execution_count": 80,
   "metadata": {},
   "outputs": [
    {
     "name": "stdout",
     "output_type": "stream",
     "text": [
      "minha\n",
      "Enter your last name:farooq\n",
      "minha farooq\n"
     ]
    }
   ],
   "source": [
    "    \n",
    "    First = input(\"Enter your first name:\")\n",
    "    Last = input(\"Enter your last name:\")\n",
    "    print (First, Last)"
   ]
  },
  {
   "cell_type": "code",
   "execution_count": 91,
   "metadata": {},
   "outputs": [
    {
     "name": "stdout",
     "output_type": "stream",
     "text": [
      "Enter the radius34\n",
      "3629.84\n",
      "213.52\n"
     ]
    }
   ],
   "source": [
    "r= float(input(\"Enter the radius\"))\n",
    "pi = 3.14\n",
    "area = pi*(r*r)\n",
    "perimeter= 2*pi*r\n",
    "print(area)\n",
    "print(perimeter)"
   ]
  },
  {
   "cell_type": "code",
   "execution_count": null,
   "metadata": {},
   "outputs": [],
   "source": [
    "cond = int(input(\"Enter the number\"))\n",
    "if cond>0:\n",
    "    \n",
    "    for i in range(4):\n",
    "        print(\"CDAC MOHALI\")"
   ]
  },
  {
   "cell_type": "code",
   "execution_count": null,
   "metadata": {},
   "outputs": [],
   "source": [
    "var= input()\n",
    "x = float(var)\n",
    "print(x)"
   ]
  },
  {
   "cell_type": "code",
   "execution_count": 124,
   "metadata": {},
   "outputs": [
    {
     "name": "stdout",
     "output_type": "stream",
     "text": [
      "Is Hello\n"
     ]
    }
   ],
   "source": [
    "str = \" Hello\"\n",
    "str1 = \"Is\"\n",
    "if str.startswith('is')== True:\n",
    "    print(\"String unchanged\")\n",
    "else:\n",
    "    str2 = str1 +str\n",
    "    print(str2)\n",
    "        \n",
    "    "
   ]
  },
  {
   "cell_type": "code",
   "execution_count": 137,
   "metadata": {},
   "outputs": [
    {
     "name": "stdout",
     "output_type": "stream",
     "text": [
      "enter the number2\n",
      "Postive\n"
     ]
    }
   ],
   "source": [
    "var = int(input(\"enter the number\"))\n",
    "if var<0:\n",
    "    print(\"Negative\")\n",
    "else:\n",
    "    print(\"Postive\")"
   ]
  },
  {
   "cell_type": "code",
   "execution_count": 145,
   "metadata": {},
   "outputs": [
    {
     "name": "stdout",
     "output_type": "stream",
     "text": [
      "enter the number-3\n",
      "Negative\n"
     ]
    }
   ],
   "source": [
    "var = int(input(\"enter the number\"))\n",
    "if var<0:\n",
    "    print(\"Negative\")\n",
    "elif var>0:\n",
    "    print(\"Positive\")\n",
    "else:\n",
    "    print(\"zero\")\n",
    "    "
   ]
  },
  {
   "cell_type": "code",
   "execution_count": 149,
   "metadata": {},
   "outputs": [
    {
     "name": "stdout",
     "output_type": "stream",
     "text": [
      "Enter your marks20\n",
      "Sorry,You have failed\n"
     ]
    }
   ],
   "source": [
    "marks = int(input(\"Enter your marks\"))\n",
    "if marks>=50:\n",
    "    print(\"Congratulations\")\n",
    "else:\n",
    "    print(\"Sorry,You have failed\")"
   ]
  },
  {
   "cell_type": "code",
   "execution_count": 152,
   "metadata": {},
   "outputs": [
    {
     "name": "stdout",
     "output_type": "stream",
     "text": [
      "Enter a number: 3\n",
      "The sum of first n natural numbers is 6\n"
     ]
    }
   ],
   "source": [
    "n=int(input(\"Enter a number: \"))\n",
    "sum1 = 0\n",
    "while(n > 0):\n",
    "    sum1=sum1+n\n",
    "    n=n-1\n",
    "print(\"The sum of first n natural numbers is\",sum1)"
   ]
  },
  {
   "cell_type": "code",
   "execution_count": 154,
   "metadata": {},
   "outputs": [
    {
     "name": "stdout",
     "output_type": "stream",
     "text": [
      "enter the number2\n",
      "Even\n"
     ]
    }
   ],
   "source": [
    "var = int(input(\"enter the number\"))\n",
    "if var%2==0:\n",
    "    print(\"Even\")\n",
    "else:\n",
    "\n",
    "    print(\"odd\")"
   ]
  },
  {
   "cell_type": "code",
   "execution_count": 158,
   "metadata": {},
   "outputs": [
    {
     "name": "stdout",
     "output_type": "stream",
     "text": [
      "31\n",
      "11\n",
      "210\n",
      "2.1\n"
     ]
    }
   ],
   "source": [
    "#Question 20\n",
    "\n",
    "a = 21\n",
    "b = 10\n",
    "c = 0\n",
    "c = a+b\n",
    "d =a-b\n",
    "g = a*b\n",
    "h = a/b\n",
    "print(c)\n",
    "print(d)\n",
    "print(g)\n",
    "print(h)"
   ]
  },
  {
   "cell_type": "code",
   "execution_count": 171,
   "metadata": {},
   "outputs": [
    {
     "name": "stdout",
     "output_type": "stream",
     "text": [
      "0.0\n"
     ]
    },
    {
     "data": {
      "text/plain": [
       "'29'"
      ]
     },
     "execution_count": 171,
     "metadata": {},
     "output_type": "execute_result"
    }
   ],
   "source": [
    "#Question 26\n",
    "print(7%(7/2))\n",
    "int(\"17\"+\"3\")\n",
    "\"2\"+\"9\"\n",
    "\n",
    "\n"
   ]
  },
  {
   "cell_type": "code",
   "execution_count": 176,
   "metadata": {},
   "outputs": [
    {
     "name": "stdout",
     "output_type": "stream",
     "text": [
      "A not equal to b\n"
     ]
    }
   ],
   "source": [
    "a = 25\n",
    "b = 12\n",
    "if (a==b):\n",
    "    print(\"A equals b\")\n",
    "else:\n",
    "    print(\"A not equal to b\")"
   ]
  },
  {
   "cell_type": "code",
   "execution_count": 7,
   "metadata": {},
   "outputs": [
    {
     "name": "stdout",
     "output_type": "stream",
     "text": [
      "On a puppy's sleepy sppotted tummy, the sun connects her\n",
      " dots Her back legs tricycle Her pink mout of a velvet \n",
      "church beads with milk, a muffy an eye swims under its lid \n",
      " as her brothers tongue takes her eat up like a flower pettle. \n",
      " By Stephen Lindow \n"
     ]
    }
   ],
   "source": [
    "print(\"On a puppy's sleepy sppotted tummy, the sun connects her\\n dots Her back legs tricycle Her pink mout of a velvet \\nchurch beads with milk, a muffy an eye swims under its lid \\n as her brothers tongue takes her eat up like a flower pettle. \\n By Stephen Lindow \")"
   ]
  },
  {
   "cell_type": "code",
   "execution_count": 1,
   "metadata": {},
   "outputs": [
    {
     "name": "stdout",
     "output_type": "stream",
     "text": [
      "true\n"
     ]
    }
   ],
   "source": [
    "#Identity operators \n",
    "x = 5\n",
    "if (type(x) is int): \n",
    "    print (\"true\") \n",
    "else: \n",
    "    print (\"false\") "
   ]
  },
  {
   "cell_type": "code",
   "execution_count": 2,
   "metadata": {},
   "outputs": [
    {
     "name": "stdout",
     "output_type": "stream",
     "text": [
      "false\n"
     ]
    }
   ],
   "source": [
    "x = 5\n",
    "if (type(x) is not int): \n",
    "    print (\"true\") \n",
    "else: \n",
    "    print (\"false\") "
   ]
  },
  {
   "cell_type": "code",
   "execution_count": 5,
   "metadata": {},
   "outputs": [
    {
     "name": "stdout",
     "output_type": "stream",
     "text": [
      "x is NOT present in given list\n"
     ]
    }
   ],
   "source": [
    "#Membership operators \n",
    "x = 24\n",
    "y = 20\n",
    "list = [10, 20, 30, 40, 50 ]; \n",
    "  \n",
    "if ( x not in list ): \n",
    "    print (\"x is NOT present in given list\")\n",
    "else: \n",
    "     print (\"x is  present in given list\")\n"
   ]
  },
  {
   "cell_type": "code",
   "execution_count": 7,
   "metadata": {},
   "outputs": [
    {
     "name": "stdout",
     "output_type": "stream",
     "text": [
      "y is present in given list\n"
     ]
    }
   ],
   "source": [
    " x = 24\n",
    "if ( y in list ): \n",
    "       print (\"y is present in given list\")\n",
    "else: \n",
    "       print (\"y is NOT present in given list\")"
   ]
  },
  {
   "cell_type": "code",
   "execution_count": 28,
   "metadata": {},
   "outputs": [
    {
     "name": "stdout",
     "output_type": "stream",
     "text": [
      "['Apple', 'Mango', 'Orange']\n",
      "['Apple', 'Banana', 'Mango', 'Orange']\n",
      "['Apple', 'Banana', 'Mango', 'Orange']\n"
     ]
    }
   ],
   "source": [
    "#List \n",
    "fruits = ['Apple','Mango','Orange']\n",
    "print(fruits)\n",
    "fruits[1]\n",
    "fruits.insert(1,'Banana')\n",
    "print(fruits)\n",
    "fruits.reverse()\n",
    "print(fruits)\n"
   ]
  },
  {
   "cell_type": "code",
   "execution_count": 40,
   "metadata": {},
   "outputs": [],
   "source": [
    "#Tuple\n",
    "names= (\"Burhan\",\"Majid\", \"Naffi\",\"Rabiya\",\"Minha\")\n",
    "names[1:4]\n",
    "#Tupples can be deleted completely. we can\"t remove elements from tupples\n",
    "del names\n"
   ]
  },
  {
   "cell_type": "code",
   "execution_count": 46,
   "metadata": {},
   "outputs": [
    {
     "name": "stdout",
     "output_type": "stream",
     "text": [
      "{'No1', 'No3', 'No2'}\n",
      "{'No3', 'a', 'o', 'No2', 'u', 'No1', ' ', 'H'}\n",
      "{'No3', 'a', 'o', 'No2', 'u', ' ', 'H'}\n",
      "{'No3', 'a', 'o', 'u', ' ', 'H'}\n"
     ]
    }
   ],
   "source": [
    "#Set\n",
    "houses = {\"No1\",\"No2\",\"No3\"}\n",
    "print(houses)\n",
    "houses.update('H',\"o\",\"a\",\" u\")\n",
    "print(houses)\n",
    "houses.remove(\"No1\")\n",
    "print(houses)\n",
    "houses.discard(\"No2\")\n",
    "print(houses)"
   ]
  },
  {
   "cell_type": "code",
   "execution_count": 52,
   "metadata": {},
   "outputs": [
    {
     "name": "stdout",
     "output_type": "stream",
     "text": [
      "hey there\n"
     ]
    }
   ],
   "source": [
    "#Functions\n",
    "def greetings():\n",
    "    print(\"hey there\")\n",
    "    \n",
    "greetings()"
   ]
  },
  {
   "cell_type": "code",
   "execution_count": 56,
   "metadata": {},
   "outputs": [
    {
     "name": "stdout",
     "output_type": "stream",
     "text": [
      "7\n",
      "8\n"
     ]
    }
   ],
   "source": [
    "def add(x):\n",
    "    return 5+x\n",
    "print(add(2))\n",
    "print(add(3))"
   ]
  },
  {
   "cell_type": "code",
   "execution_count": 4,
   "metadata": {},
   "outputs": [
    {
     "name": "stdout",
     "output_type": "stream",
     "text": [
      "Enter the number22.4\n"
     ]
    },
    {
     "ename": "ValueError",
     "evalue": "invalid literal for int() with base 10: '22.4'",
     "output_type": "error",
     "traceback": [
      "\u001b[0;31m---------------------------------------------------------------------------\u001b[0m",
      "\u001b[0;31mValueError\u001b[0m                                Traceback (most recent call last)",
      "\u001b[0;32m<ipython-input-4-ec8cb3eb69be>\u001b[0m in \u001b[0;36m<module>\u001b[0;34m()\u001b[0m\n\u001b[0;32m----> 1\u001b[0;31m \u001b[0mx\u001b[0m \u001b[0;34m=\u001b[0m \u001b[0mint\u001b[0m\u001b[0;34m(\u001b[0m\u001b[0minput\u001b[0m\u001b[0;34m(\u001b[0m\u001b[0;34m\"Enter the number\"\u001b[0m\u001b[0;34m)\u001b[0m\u001b[0;34m)\u001b[0m\u001b[0;34m\u001b[0m\u001b[0m\n\u001b[0m\u001b[1;32m      2\u001b[0m \u001b[0mprint\u001b[0m\u001b[0;34m(\u001b[0m\u001b[0mx\u001b[0m\u001b[0;34m)\u001b[0m\u001b[0;34m\u001b[0m\u001b[0m\n",
      "\u001b[0;31mValueError\u001b[0m: invalid literal for int() with base 10: '22.4'"
     ]
    }
   ],
   "source": []
  },
  {
   "cell_type": "code",
   "execution_count": null,
   "metadata": {},
   "outputs": [],
   "source": []
  }
 ],
 "metadata": {
  "kernelspec": {
   "display_name": "Python 3",
   "language": "python",
   "name": "python3"
  },
  "language_info": {
   "codemirror_mode": {
    "name": "ipython",
    "version": 3
   },
   "file_extension": ".py",
   "mimetype": "text/x-python",
   "name": "python",
   "nbconvert_exporter": "python",
   "pygments_lexer": "ipython3",
   "version": "3.7.0"
  }
 },
 "nbformat": 4,
 "nbformat_minor": 2
}
